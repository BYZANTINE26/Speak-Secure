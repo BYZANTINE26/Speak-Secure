{
 "cells": [
  {
   "cell_type": "code",
   "execution_count": 9,
   "metadata": {},
   "outputs": [],
   "source": [
    "import numpy as np\n",
    "import python_speech_features as mfcc\n",
    "from sklearn import preprocessing\n",
    "import os\n",
    "import pyaudio\n",
    "import time\n",
    "import wave\n",
    "from scipy.io.wavfile import read\n",
    "from sklearn.mixture import GaussianMixture as GMM\n",
    "import pickle\n",
    "import glob\n",
    "from IPython.display import Audio, display, clear_output"
   ]
  },
  {
   "cell_type": "markdown",
   "metadata": {},
   "source": [
    "Audio Processing"
   ]
  },
  {
   "cell_type": "code",
   "execution_count": 2,
   "metadata": {},
   "outputs": [],
   "source": [
    "# calculate and return the delta of given feature vector matrix\n",
    "\n",
    "def calculate_delta(array):\n",
    "    N = 2\n",
    "    rows, cols = array.shape\n",
    "\n",
    "    # Create an array of indices for the sliding window\n",
    "    indices = np.arange(-N, N + 1)\n",
    "    \n",
    "    # Ensure the indices stay within bounds\n",
    "    indices = np.clip(indices + np.arange(rows)[:, np.newaxis], 0, rows - 1)\n",
    "\n",
    "    # Calculate the delta using array slicing and operations\n",
    "    left_neighbors = array[indices[:, N - 1]]\n",
    "    right_neighbors = array[indices[:, N + 1]]\n",
    "    delta = (right_neighbors - left_neighbors) + 2 * (right_neighbors - 2 * array[indices[:, N]] + left_neighbors)\n",
    "    delta /= 10\n",
    "\n",
    "    return delta"
   ]
  },
  {
   "cell_type": "code",
   "execution_count": 3,
   "metadata": {},
   "outputs": [],
   "source": [
    "# convert audio to mfcc features\n",
    "\n",
    "def extract_features(audio, rate):\n",
    "    mfcc_features = mfcc.mfcc(audio, rate, 0.025, 0.01, 20, appendEnergy=True, nfft=1103)\n",
    "    mfcc_features = preprocessing.scale(mfcc_features)\n",
    "    delta = calculate_delta(mfcc_features)\n",
    "    combined = np.hstack((mfcc_features, delta))\n",
    "    return combined"
   ]
  },
  {
   "cell_type": "markdown",
   "metadata": {},
   "source": [
    "Adding a new user"
   ]
  },
  {
   "cell_type": "code",
   "execution_count": 34,
   "metadata": {},
   "outputs": [],
   "source": [
    "def add_user():\n",
    "    name = input(\"Enter your username: \")\n",
    "    if os.path.exists('./voice_database/' + name):\n",
    "        print(\"User already exists \\n Try again with another username\")\n",
    "        return\n",
    "    \n",
    "    FORMAT = pyaudio.paInt16\n",
    "    CHANNELS = 1\n",
    "    RATE = 44100\n",
    "    CHUNK = 1024\n",
    "    RECORD_SECONDS = 3 # TODO: 5\n",
    "\n",
    "    source = \"./voice_database/\" + name\n",
    "    os.mkdir(source)\n",
    "    for i in range(3):\n",
    "        audio = pyaudio.PyAudio()\n",
    "\n",
    "        if i == 0:\n",
    "            j = 3\n",
    "            while j>=0:\n",
    "                time.sleep(1.0)\n",
    "                print(\"Speak your name in {} seconds\".format(j))\n",
    "                clear_output(wait = True)\n",
    "                j -= 1\n",
    "        \n",
    "        elif i == 1:\n",
    "            print(\"Speak your name one more time\")\n",
    "            time.sleep(0.5)\n",
    "        \n",
    "        else:\n",
    "            print(\"Speak your name one last time\")\n",
    "            time.sleep(0.5)\n",
    "        \n",
    "        # start Recording\n",
    "        stream = audio.open(format=FORMAT, channels=CHANNELS, rate=RATE, input=True, frames_per_buffer=CHUNK)\n",
    "\n",
    "        print(\"recording...\")\n",
    "        frames = []\n",
    "\n",
    "        for _ in range(0, int(RATE / CHUNK * RECORD_SECONDS)):\n",
    "            data = stream.read(CHUNK)\n",
    "            frames.append(data)\n",
    "        \n",
    "        # stop Recording\n",
    "        stream.stop_stream()\n",
    "        stream.close()\n",
    "        audio.terminate()\n",
    "\n",
    "        # saving wav file of speaker\n",
    "        waveFile = wave.open(source + '/' + str((i+1)) + '.wav', 'wb')\n",
    "        waveFile.setnchannels(CHANNELS)\n",
    "        waveFile.setsampwidth(audio.get_sample_size(FORMAT))\n",
    "        waveFile.setframerate(RATE)\n",
    "        waveFile.writeframes(b''.join(frames))\n",
    "        waveFile.close()\n",
    "        print(\"Done\")\n",
    "\n",
    "    dest =  \"./gmm_models/\"\n",
    "    count = 1\n",
    "\n",
    "    for path in os.listdir(source):\n",
    "        path = os.path.join(source, path)\n",
    "\n",
    "        features = np.array([])\n",
    "\n",
    "        # reading audio files of speaker\n",
    "        (sr, audio) = read(path)\n",
    "\n",
    "        # extract 40 dimensional MFCC & delta MFCC features\n",
    "        vector = extract_features(audio,sr)\n",
    "\n",
    "        if features.size == 0:\n",
    "            features = vector\n",
    "        else:\n",
    "            features = np.vstack((features, vector))\n",
    "\n",
    "        # when features of 3 files of speaker are concatenated, then do model training\n",
    "        if count == 3:\n",
    "            gmm = GMM(n_components = 16, max_iter = 200, covariance_type='diag', n_init = 3)\n",
    "            gmm.fit(features)\n",
    "\n",
    "            # saving the trained gaussian model\n",
    "            # pickle.dump(gmm, open(dest + name + '.gmm', 'w'))\n",
    "            with open(dest + name + '.gmm', 'wb') as file:\n",
    "                pickle.dump(gmm, file)\n",
    "            print(name + ' added successfully')\n",
    "\n",
    "            features = np.asarray(())\n",
    "            count = 0\n",
    "        count = count + 1\n",
    "\n"
   ]
  },
  {
   "cell_type": "markdown",
   "metadata": {},
   "source": [
    "Delete User"
   ]
  },
  {
   "cell_type": "code",
   "execution_count": 5,
   "metadata": {},
   "outputs": [],
   "source": [
    "def delete_user():\n",
    "    name = input(\"Enter the name of the user you want to delete: \") # TODO: check if user exists\n",
    "    [os.remove(path) for path in glob.glob('./voice_database/' + name + '/*')]\n",
    "    os.rmdir('./voice_database/' + name)\n",
    "    os.remove('./gmm_models/' + name + '.gmm')"
   ]
  },
  {
   "cell_type": "markdown",
   "metadata": {},
   "source": [
    "Voice Authentication"
   ]
  },
  {
   "cell_type": "code",
   "execution_count": 60,
   "metadata": {},
   "outputs": [],
   "source": [
    "def recognize():\n",
    "    # target_username = input(\"Enter authentication username: \")\n",
    "    # if not os.path.exists('./gmm_models/' + target_username + '.gmm'):\n",
    "    #     print(\"User doesn't exist!\")\n",
    "    #     return\n",
    "    # else:\n",
    "    #     target_model = pickle.load(open('./gmm_models/' + target_username + '.gmm', 'rb'))\n",
    "\n",
    "    FORMAT = pyaudio.paInt16\n",
    "    CHANNELS = 1\n",
    "    RATE = 44100\n",
    "    CHUNK = 1024\n",
    "    RECORD_SECONDS = 3\n",
    "    FILENAME = \"./test.wav\"\n",
    "\n",
    "    audio = pyaudio.PyAudio()\n",
    "\n",
    "    # start Recording\n",
    "    stream = audio.open(format=FORMAT, channels=CHANNELS, rate=RATE, input=True, frames_per_buffer=CHUNK)\n",
    "    print(\"recording...\")\n",
    "    frames = []\n",
    "\n",
    "    for i in range(0, int(RATE / CHUNK * RECORD_SECONDS)):\n",
    "        data = stream.read(CHUNK)\n",
    "        frames.append(data)\n",
    "    print(\"finished recording\")\n",
    "\n",
    "    # stop Recording\n",
    "    stream.stop_stream()\n",
    "    stream.close()\n",
    "    audio.terminate()\n",
    "\n",
    "    # saving wav file\n",
    "    waveFile = wave.open(FILENAME, 'wb')\n",
    "    waveFile.setnchannels(CHANNELS)\n",
    "    waveFile.setsampwidth(audio.get_sample_size(FORMAT))\n",
    "    waveFile.setframerate(RATE)\n",
    "    waveFile.writeframes(b''.join(frames))\n",
    "    waveFile.close()\n",
    "\n",
    "    modelpath = \"./gmm_models/\"\n",
    "    gmm_files = [os.path.join(modelpath,fname) for fname in os.listdir(modelpath) if fname.endswith('.gmm')]\n",
    "\n",
    "# Find the GMM model for the target username\n",
    "    # # target_model = None\n",
    "    # # for fname in gmm_files:\n",
    "    # #     speaker = fname.split(\"/\")[-1].split(\".gmm\")[0]\n",
    "    # #     if speaker == target_username:\n",
    "    # #         target_model = pickle.load(open(fname, 'rb'))\n",
    "    # #         break\n",
    "\n",
    "    # # if target_model is None:\n",
    "    # #     print(\"User not found in the database!\")\n",
    "    # #     return\n",
    "\n",
    "    # # Read test file\n",
    "    # sr, audio = read(FILENAME)\n",
    "\n",
    "    # # Extract MFCC features\n",
    "    # vector = extract_features(audio, sr)\n",
    "    # log_likelihood = target_model.score(vector)  # Calculate the log-likelihood for the target model\n",
    "    # print(log_likelihood)\n",
    "    # return log_likelihood\n",
    "\n",
    "    # if log_likelihood > some_threshold:  # Set an appropriate threshold for recognition\n",
    "    #     print(f\"Recognized as {target_username}\")\n",
    "    # else:\n",
    "    #     print(\"Not Recognized! Try again...\")\n",
    "\n",
    "# Checking all models\n",
    "    models = [pickle.load(open(fname,'rb')) for fname in gmm_files]\n",
    "    speakers = [fname.split(\"/\")[-1].split(\".gmm\")[0] for fname in gmm_files]\n",
    "\n",
    "    if len(models) == 0:\n",
    "        print(\"No Users in the Database!\")\n",
    "        return\n",
    "    \n",
    "    #read test file\n",
    "    sr,audio = read(FILENAME)\n",
    "\n",
    "    # extract mfcc features\n",
    "    vector = extract_features(audio,sr)\n",
    "    log_likelihood = np.zeros(len(models))\n",
    "\n",
    "    #checking with each model one by one\n",
    "    for i in range(len(models)):\n",
    "        gmm = models[i]         \n",
    "        scores = np.array(gmm.score(vector))\n",
    "        log_likelihood[i] = scores.sum()\n",
    "\n",
    "    print(log_likelihood)\n",
    "\n",
    "    pred = np.argmax(log_likelihood)\n",
    "    identity = speakers[pred]\n",
    "    print(identity)\n",
    "    print(speakers)\n",
    "\n",
    "    # # if voice not recognized than terminate the process\n",
    "    # if identity == 'unknown':\n",
    "    #     print(\"Not Recognized! Try again...\")\n",
    "    #     return\n",
    "    # else:\n",
    "    #     print( \"Recognized as - \", identity)\n",
    "    #     return identity\n"
   ]
  },
  {
   "cell_type": "code",
   "execution_count": 71,
   "metadata": {},
   "outputs": [
    {
     "name": "stdout",
     "output_type": "stream",
     "text": [
      "recording...\n",
      "finished recording\n",
      "[-24.70263553 -30.5747202  -26.82657463]\n",
      "test2\n",
      "['test2', 'python', 'vishal']\n"
     ]
    }
   ],
   "source": [
    "like = recognize()"
   ]
  },
  {
   "cell_type": "code",
   "execution_count": 55,
   "metadata": {},
   "outputs": [
    {
     "data": {
      "text/plain": [
       "0"
      ]
     },
     "execution_count": 55,
     "metadata": {},
     "output_type": "execute_result"
    }
   ],
   "source": [
    "np.argmax(like)"
   ]
  },
  {
   "cell_type": "code",
   "execution_count": null,
   "metadata": {},
   "outputs": [],
   "source": []
  },
  {
   "cell_type": "code",
   "execution_count": null,
   "metadata": {},
   "outputs": [],
   "source": []
  },
  {
   "cell_type": "code",
   "execution_count": null,
   "metadata": {},
   "outputs": [],
   "source": []
  },
  {
   "cell_type": "code",
   "execution_count": null,
   "metadata": {},
   "outputs": [],
   "source": []
  },
  {
   "cell_type": "code",
   "execution_count": null,
   "metadata": {},
   "outputs": [],
   "source": []
  },
  {
   "cell_type": "code",
   "execution_count": null,
   "metadata": {},
   "outputs": [],
   "source": []
  },
  {
   "cell_type": "code",
   "execution_count": null,
   "metadata": {},
   "outputs": [],
   "source": []
  },
  {
   "cell_type": "code",
   "execution_count": null,
   "metadata": {},
   "outputs": [],
   "source": []
  },
  {
   "cell_type": "code",
   "execution_count": 31,
   "metadata": {},
   "outputs": [
    {
     "name": "stdout",
     "output_type": "stream",
     "text": [
      "recording...\n",
      "Done\n",
      "Speak your name one more time\n",
      "recording...\n",
      "Done\n",
      "Speak your name one last time\n",
      "recording...\n",
      "Done\n",
      "vishal added successfully\n"
     ]
    }
   ],
   "source": [
    "add_user()"
   ]
  },
  {
   "cell_type": "code",
   "execution_count": 36,
   "metadata": {},
   "outputs": [
    {
     "name": "stdout",
     "output_type": "stream",
     "text": [
      "recording...\n",
      "finished recording\n",
      "[12  6  6  6  6 12 12 12 12 12 12 12 12 12 12 10  8 10 10 12 12 12 10 12\n",
      "  8 12 12 12 10 12 12 12  1 13  4  1 14 14 11  4 13 13 11 14 14  8  4 13\n",
      " 11 13  8  4 13  1 12 12  8 12 10 12  8  8 12 12 12 14 12  1  8 12  8 12\n",
      " 12  8 12 12  8  8 12 12 12 12 12 14  8  4  4  4  1 13  1  9  8 12  1  8\n",
      "  0  8  8 13 12  4 13 12 12 12 12  8  1  8 12 12 12 12  8  1  8 13 13 12\n",
      " 12 12 13  1  1 13 13 11  4 13 13  0  8 13  8 13 13  1 14 14 13  8  1 13\n",
      " 13 14 11 11  1 13 13 12  8  8 13 13 13  8  8 13  4 13 12 12 12 12  8 12\n",
      "  8 11  8 12 12 12 12  8 12 13 12  8  4 13  8  8 14 14 12 11 11 12 14  1\n",
      "  0  8 13  8 14 13 12 12 12 14 11 14 12  8 12 11  1 12 14 12  9 12 12 12\n",
      " 12 11 12  8  1  4 13 12  1 13  9  1  4 13 13  8 11 12 14  1 14 12 12 12\n",
      " 12 12 11 11  1 11 11  4 12 12  8  8 12 12 12 12  8  8 12 12 12 12  8 12\n",
      " 12 12 12 12 12 12 12 12 12 12 11 12 12 12 12 12 12 12 12 12 14 14  8 13\n",
      " 12 12 12 12 12 14  1  9 13 13 12]\n"
     ]
    }
   ],
   "source": [
    "log = recognize()"
   ]
  },
  {
   "cell_type": "code",
   "execution_count": 37,
   "metadata": {},
   "outputs": [
    {
     "name": "stdout",
     "output_type": "stream",
     "text": [
      "recording...\n",
      "finished recording\n",
      "[13 13  5  0  0  0  5  5  0  5  5 13  5 13  5 13 13 13 13 13 13  0 13  5\n",
      "  5 13  5  5  5  5  5  5  5  5  5  5  5  5  5 13  5  5  5  5  5  5  5 13\n",
      "  5  5  5  5 13 13 13  5  5  5  5  5  5  5  5 13  5  5  5  5 13  5  5  5\n",
      " 13  5  5  5  5  5  5  5  5  5  5  5 13  5  5  5  5 13 13 13  0 13  0  5\n",
      "  5  5  5 13  5 13  5  5 13  5  5  9  5 13 13  5 13  5  5  5  5  5  5  5\n",
      "  5  5  5  5  5  5 13 13 13 13  5  5  5  5  5  5  5  5  5  5 13  5  5 13\n",
      " 13 13 13 13 13 13  5  5  5 13  5  5  5  0  5 13  5  5 13 13  5  5  5  5\n",
      "  5  5  5  0  0  5 13  5  0  5  0  5  5  5 13  5  5 13  5 13 13 13  5  5\n",
      "  5  5  5 13  5  5  5  5  5  5  5  5 13 13  5  5 13 13 13  5 13  5  5  5\n",
      "  5  5  5  5  5  5  5  5  0  5  0  5 13  5  0 13 13 13  5  5  5 13  5  5\n",
      "  5  5  5  5  5  5  5  5  5  5  5  5  5  5  5  5  5  5  0 13  0  5  5  5\n",
      " 13  5  5  5  5  5  5  5  5  5  5  5  5 13  5  5  5  5  5 13  5  5  5 13\n",
      "  5  0  5  5  0  5  5  5  5  5  5]\n"
     ]
    }
   ],
   "source": [
    "log2 = recognize()"
   ]
  },
  {
   "cell_type": "code",
   "execution_count": 38,
   "metadata": {},
   "outputs": [
    {
     "name": "stdout",
     "output_type": "stream",
     "text": [
      "recording...\n",
      "finished recording\n",
      "[12 12 12 12 12 12 12 12 11 11 11 14 12 14  8 14  8 14  8 14 14  8 14 14\n",
      " 14 11 14 14 14 14 11 14 13  1 11 14 11 11 11 13 11  1  8 14  8 14 14 11\n",
      " 11 11 14 14 14 14 14 11 14 14 14 14  1 14 14 11 14 14 13 13 14 11 11 14\n",
      " 13 13 14  8 14 14 14 11 11 14 12 14  8 12 14 14 12 12 14 12 12 12 12 12\n",
      " 14 12 12 12  1 14 14 14 12 13  0  0  8 13 14 14  8 12 12 12 13 12 12  8\n",
      " 12 12 12 12 12 12 12 12 12 12 12 12  8  8 12  8 12 12 12 12 12 12 12 12\n",
      " 12 12 12 12 13 12 13 12 13 12 12  8 12 12 12 12 12  8  8 12 12 12 12 12\n",
      " 12 12 12 12 12 12 12 12 12 12 12 12 12 12 12 12 12 12 12 12 12 12 12 12\n",
      " 12 12 12 12 12 12 12 12 12 12 12 13 13 12 12 12 12 12  8 13 12  9 13 14\n",
      " 13 11 12 12 12 12 12 12 12 12 12  3  3 12 12 12 12 12 12 12 12 12 12 12\n",
      " 12  8 13  4 13  9 13 13 13 13 13 11 13  8 14 13 14 14 11 11 14 14 13 11\n",
      "  0 11 14 13  8  0 13  1 11 11 13 14 14 11 11 14 14 11  1 14  1 14 13 14\n",
      " 14 11  1 14 14  8 13 12  8  8 11]\n"
     ]
    }
   ],
   "source": [
    "log3 = recognize()"
   ]
  },
  {
   "cell_type": "code",
   "execution_count": 39,
   "metadata": {},
   "outputs": [
    {
     "data": {
      "text/plain": [
       "3030"
      ]
     },
     "execution_count": 39,
     "metadata": {},
     "output_type": "execute_result"
    }
   ],
   "source": [
    "log.sum()"
   ]
  },
  {
   "cell_type": "code",
   "execution_count": 40,
   "metadata": {},
   "outputs": [
    {
     "data": {
      "text/plain": [
       "1964"
      ]
     },
     "execution_count": 40,
     "metadata": {},
     "output_type": "execute_result"
    }
   ],
   "source": [
    "log2.sum()"
   ]
  },
  {
   "cell_type": "code",
   "execution_count": 41,
   "metadata": {},
   "outputs": [
    {
     "data": {
      "text/plain": [
       "3454"
      ]
     },
     "execution_count": 41,
     "metadata": {},
     "output_type": "execute_result"
    }
   ],
   "source": [
    "log3.sum()"
   ]
  },
  {
   "cell_type": "code",
   "execution_count": 42,
   "metadata": {},
   "outputs": [
    {
     "name": "stdout",
     "output_type": "stream",
     "text": [
      "recording...\n",
      "finished recording\n",
      "[13 13  0  0  0  0  0  0  0  0  0  0 13  4  5  4  7  7  7  4  7  4  7  4\n",
      "  7  7  7 13  7  0  4  7  4  5  0  0  0  0  5  5  0  5  0  5  0  0  0  5\n",
      "  5  0  7  5  7  7  7  0  5  0  0  5  5  0  7  5  0  5 13  5  0  0  0  4\n",
      "  7  7  4  4  4  7  7  7  4  7  7  4  4  4  7  4  4  7  4  7  7  7  7  7\n",
      "  7  7  7  4  7  7  7  4  7  4 13  7 13 13 13  4  7  0  4  4  4  0  0  0\n",
      "  0  7 13  5  5 13  6  6  6  2  5  5  5  5  2  8  5  8  8  8  5  5 11  6\n",
      "  6  6  6  6  5  6  6  5  8  8  8  6  8  8  6 11  5  5  5  5  5  5  5 11\n",
      " 11 11  5 11 11 11  5  5  5  5  5  5  5  5  5  5  5  5  5  8 11  5  5  5\n",
      "  5  5  5  5  5  5  5 11  5 11 11  2  2  2  2  2  5  5  5  2  5  5  5  2\n",
      "  2  5  5  5  5  5  5 13 13 13 13 13  1  1  1  1  1  1  1  1  5  5  5  8\n",
      "  8  8 11 11 11  8  6  5  6  6  6  6  6  6  6  5  5  5  7  4  5 13 13 13\n",
      " 13 13 13 13 13 13  0  0  0  0  0  4 13 13  4  0  0  0  0  0  0  0  0  4\n",
      "  4  0  0  0  0  0  0  4  7 13  0]\n"
     ]
    }
   ],
   "source": [
    "log4 = recognize()"
   ]
  },
  {
   "cell_type": "code",
   "execution_count": 43,
   "metadata": {},
   "outputs": [
    {
     "data": {
      "text/plain": [
       "1590"
      ]
     },
     "execution_count": 43,
     "metadata": {},
     "output_type": "execute_result"
    }
   ],
   "source": [
    "log4.sum()"
   ]
  },
  {
   "cell_type": "code",
   "execution_count": 29,
   "metadata": {},
   "outputs": [
    {
     "data": {
      "text/plain": [
       "numpy.float64"
      ]
     },
     "execution_count": 29,
     "metadata": {},
     "output_type": "execute_result"
    }
   ],
   "source": [
    "type(log)"
   ]
  },
  {
   "cell_type": "code",
   "execution_count": 30,
   "metadata": {},
   "outputs": [
    {
     "data": {
      "text/plain": [
       "-22.797398997781972"
      ]
     },
     "execution_count": 30,
     "metadata": {},
     "output_type": "execute_result"
    }
   ],
   "source": [
    "log.sum()"
   ]
  },
  {
   "cell_type": "code",
   "execution_count": 44,
   "metadata": {},
   "outputs": [
    {
     "name": "stdout",
     "output_type": "stream",
     "text": [
      "recording...\n",
      "Done\n",
      "Speak your name one more time\n",
      "recording...\n",
      "Done\n",
      "Speak your name one last time\n",
      "recording...\n",
      "Done\n",
      "python added successfully\n"
     ]
    }
   ],
   "source": [
    "add_user()"
   ]
  },
  {
   "cell_type": "code",
   "execution_count": 48,
   "metadata": {},
   "outputs": [
    {
     "name": "stdout",
     "output_type": "stream",
     "text": [
      "recording...\n",
      "finished recording\n",
      "-30.05756359386624\n"
     ]
    },
    {
     "data": {
      "text/plain": [
       "-30.05756359386624"
      ]
     },
     "execution_count": 48,
     "metadata": {},
     "output_type": "execute_result"
    }
   ],
   "source": [
    "recognize()"
   ]
  },
  {
   "cell_type": "code",
   "execution_count": null,
   "metadata": {},
   "outputs": [],
   "source": []
  },
  {
   "cell_type": "code",
   "execution_count": null,
   "metadata": {},
   "outputs": [],
   "source": []
  }
 ],
 "metadata": {
  "kernelspec": {
   "display_name": "voice",
   "language": "python",
   "name": "voice"
  },
  "language_info": {
   "codemirror_mode": {
    "name": "ipython",
    "version": 3
   },
   "file_extension": ".py",
   "mimetype": "text/x-python",
   "name": "python",
   "nbconvert_exporter": "python",
   "pygments_lexer": "ipython3",
   "version": "3.11.5"
  },
  "orig_nbformat": 4
 },
 "nbformat": 4,
 "nbformat_minor": 2
}
